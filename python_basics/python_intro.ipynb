{
 "cells": [
  {
   "cell_type": "markdown",
   "id": "15526c14-d56a-43ee-882a-42bd07c84100",
   "metadata": {},
   "source": [
    "# Introducción a la Sintaxis Básica de Python\n",
    "\n",
    "Python es un lenguaje de programación sencillo y versátil. En esta sección aprenderás cómo escribir código básico en Python.\n",
    "\n",
    "Python Instalación: \n",
    "\n",
    "### Sintaxis Básica\n",
    "\n",
    "La sintaxis de Python es el conjunto de reglas que debes seguir para escribir código correctamente. Python es un lenguaje de programación que se destaca por su sencillez y facilidad de lectura, lo que lo hace ideal para principiantes.\n",
    "\n",
    "Algunos aspectos clave de la sintaxis básica en Python son:\n",
    "\n",
    "- No necesita punto y coma (;) al final de las líneas.\n",
    "- Usa indentación (espacios o tabulaciones) para definir bloques de código en lugar de llaves {} como en otros lenguajes.\n",
    "- Las variables se crean automáticamente al asignarles un valor.\n",
    "- Las cadenas de texto (strings) se pueden escribir con comillas simples o dobles.\n",
    "- Los comentarios comienzan con el símbolo # y no afectan la ejecución del código.\n",
    "\n",
    "### 1. Imprimir en pantalla\n",
    "La función print() se usa para mostrar información en la consola e input() para preguntar información a los usuarios."
   ]
  },
  {
   "cell_type": "code",
   "execution_count": 24,
   "id": "95a8998c-5dd8-4042-b68a-0ec67725018f",
   "metadata": {},
   "outputs": [
    {
     "name": "stdout",
     "output_type": "stream",
     "text": [
      "Escribe un mensaje: Hello\n"
     ]
    },
    {
     "name": "stdout",
     "output_type": "stream",
     "text": [
      "Hello\n"
     ]
    }
   ],
   "source": [
    "mensaje = input(\"Escribe un mensaje:\")\n",
    "print(mensaje)"
   ]
  },
  {
   "cell_type": "markdown",
   "id": "62a94795-e674-409e-a1a8-80f850e6ca06",
   "metadata": {},
   "source": [
    "## 2. Comentarios en Python\n",
    "Los comentarios ayudan a documentar el código y hacerlo más comprensible."
   ]
  },
  {
   "cell_type": "code",
   "execution_count": 4,
   "id": "0bfe71c2-e776-4e92-b8ee-fdafb139da0e",
   "metadata": {},
   "outputs": [],
   "source": [
    "# Esto es un comentario de una sola línea"
   ]
  },
  {
   "cell_type": "markdown",
   "id": "b1698226-8e6e-4e7e-821d-c87a9da25457",
   "metadata": {},
   "source": [
    "## Variables y Tipos de Datos Básicos\n",
    "Las variables almacenan datos y pueden ser de diferentes tipos.\n",
    "\n",
    "### 3. Declaración de variables\n",
    "Se usan para guardar información que puede cambiar a lo largo del programa."
   ]
  },
  {
   "cell_type": "code",
   "execution_count": 19,
   "id": "64eb22e5-7a3b-41fb-8f45-6af9a2bf65bb",
   "metadata": {},
   "outputs": [],
   "source": [
    "nombre = \"Alice\" # Texto\n",
    "edad = 25 # Enteros\n",
    "altura = 1.68 # Decimales\n",
    "es_estudiante = True # Booleano\n",
    "lista = [\"Hello\", \"Alice\", \"como\", \"estas\"]\n",
    "diccionario = {\"nombre\": nombre, \"edad\": edad, \"altura\": altura}"
   ]
  },
  {
   "cell_type": "markdown",
   "id": "3a17d290-e320-4829-a2d1-f7d97431e737",
   "metadata": {},
   "source": [
    "### 4. Imprimir valores y tipos de variables\n",
    "La función type() permite conocer el tipo de dato de una variable."
   ]
  },
  {
   "cell_type": "code",
   "execution_count": 25,
   "id": "2c49afaa-0dab-46da-802f-e18896e845ff",
   "metadata": {},
   "outputs": [
    {
     "name": "stdout",
     "output_type": "stream",
     "text": [
      "Nombre: Alice - Tipo: <class 'str'>\n",
      "Edad: 25 - Tipo: <class 'int'>\n",
      "Altura: 1.68 - Tipo: <class 'float'>\n",
      "¿Es estudiante?: True - Tipo: <class 'bool'>\n",
      "Lista ['Hello', 'Alice', 'como', 'estas']  - Tipo: <class 'list'>\n",
      "Datos: {'nombre': 'Alice', 'edad': 25, 'altura': 1.68}  - Tipo: <class 'dict'>\n",
      "---------\n"
     ]
    },
    {
     "name": "stdout",
     "output_type": "stream",
     "text": [
      "¿Cómo te llamas?  Camila\n",
      "¿Cuántos años tienes?  29\n",
      "¿Cuánto mides en metros?  150\n"
     ]
    },
    {
     "name": "stdout",
     "output_type": "stream",
     "text": [
      "Tu nombre es: Camila\n",
      "Tienes 29 años\n",
      "Mides 150.0 metros\n"
     ]
    }
   ],
   "source": [
    "print(\"Nombre:\", nombre, \"- Tipo:\", type(nombre))\n",
    "print(\"Edad:\", edad, \"- Tipo:\", type(edad))\n",
    "print(\"Altura:\", altura, \"- Tipo:\", type(altura))\n",
    "print(\"¿Es estudiante?:\", es_estudiante, \"- Tipo:\", type(es_estudiante))\n",
    "print(\"Lista\", lista, \" - Tipo:\", type(lista))\n",
    "print(\"Datos:\", diccionario, \" - Tipo:\", type(diccionario))\n",
    "\n",
    "print(\"---------\")\n",
    "\n",
    "# Definir variables\n",
    "nombre = input(\"¿Cómo te llamas? \")  # Guarda el nombre ingresado por el usuario\n",
    "edad = int(input(\"¿Cuántos años tienes? \"))  # Guarda la edad como un número entero\n",
    "altura = float(input(\"¿Cuánto mides en metros? \"))  # Guarda la altura como un número decimal\n",
    "\n",
    "# Mostrar la información guardada en las variables\n",
    "print(\"Tu nombre es:\", nombre)\n",
    "print(\"Tienes\", edad, \"años\")\n",
    "print(\"Mides\", altura, \"metros\")\n"
   ]
  },
  {
   "cell_type": "markdown",
   "id": "a2da73dd-1e9c-466c-adcb-8185ddb94453",
   "metadata": {},
   "source": [
    "### 5. Operaciones con variables\n",
    "Se pueden realizar operaciones matemáticas y de concatenación."
   ]
  },
  {
   "cell_type": "code",
   "execution_count": 14,
   "id": "0bf71802-1f75-43db-a46c-6516c2339f17",
   "metadata": {},
   "outputs": [
    {
     "name": "stdout",
     "output_type": "stream",
     "text": [
      "Suma: 30\n",
      "Concatenación: Alice tiene 25 años.\n",
      "\n",
      "Multiplicación: 30\n",
      "Multi_texto: AliceAliceAlice\n"
     ]
    }
   ],
   "source": [
    "suma = edad + 5\n",
    "concatenacion = nombre + \" tiene \" + str(edad) + \" años.\"\n",
    "\n",
    "print(\"Suma:\", suma)\n",
    "print(\"Concatenación:\", concatenacion, end=\"\\n\\n\")\n",
    "\n",
    "multiplicacion = edad * 3\n",
    "multi_texto = nombre * 3\n",
    "print(\"Multiplicación:\", suma)\n",
    "print(\"Multi_texto:\", multi_texto)"
   ]
  },
  {
   "cell_type": "markdown",
   "id": "08fb0645-6fdc-4b77-90e0-85d35b894ea2",
   "metadata": {},
   "source": [
    "### 6. Operadores Matemáticos\n",
    "Los operadores matemáticos permiten realizar cálculos aritméticos."
   ]
  },
  {
   "cell_type": "code",
   "execution_count": 15,
   "id": "a73c55e0-b419-4910-8f1d-4e05eb1441e0",
   "metadata": {},
   "outputs": [
    {
     "name": "stdout",
     "output_type": "stream",
     "text": [
      "Suma: 13\n",
      "Resta: 7\n",
      "Multiplicación: 30\n",
      "División: 3.3333333333333335\n",
      "División entera: 3\n",
      "Módulo (resto de la división): 1\n",
      "Potencia: 1000\n"
     ]
    }
   ],
   "source": [
    "a = 10\n",
    "b = 3\n",
    "print(\"Suma:\", a + b)\n",
    "print(\"Resta:\", a - b)\n",
    "print(\"Multiplicación:\", a * b)\n",
    "print(\"División:\", a / b)\n",
    "print(\"División entera:\", a // b)\n",
    "print(\"Módulo (resto de la división):\", a % b)\n",
    "print(\"Potencia:\", a ** b)"
   ]
  },
  {
   "cell_type": "markdown",
   "id": "4606f8a7-e222-4120-a0f5-2805d48cec96",
   "metadata": {},
   "source": [
    "### 7. Operadores Relacionales\n",
    "Permiten comparar valores y devolver un resultado booleano (True o False)."
   ]
  },
  {
   "cell_type": "code",
   "execution_count": 16,
   "id": "31868d85-080d-4511-9780-08acb8f41f2f",
   "metadata": {},
   "outputs": [
    {
     "name": "stdout",
     "output_type": "stream",
     "text": [
      "x == y: False\n",
      "x != y: True\n",
      "x > y: False\n",
      "x < y: True\n",
      "x >= y: False\n",
      "x <= y: True\n"
     ]
    }
   ],
   "source": [
    "x = 5\n",
    "y = 10\n",
    "print(\"x == y:\", x == y)  # Igualdad\n",
    "print(\"x != y:\", x != y)  # Diferente\n",
    "print(\"x > y:\", x > y)    # Mayor que\n",
    "print(\"x < y:\", x < y)    # Menor que\n",
    "print(\"x >= y:\", x >= y)  # Mayor o igual que\n",
    "print(\"x <= y:\", x <= y)  # Menor o igual que"
   ]
  },
  {
   "cell_type": "markdown",
   "id": "626a7223-6ff2-4a99-b80b-5a3a49bd842b",
   "metadata": {},
   "source": [
    "## Estructuras de Control\n",
    "Permiten modificar el flujo del programa según condiciones o repeticiones.\n",
    "\n",
    "### 8. Condicionales\n",
    "Se usan para tomar decisiones en función de una condición."
   ]
  },
  {
   "cell_type": "code",
   "execution_count": 12,
   "id": "1fdee397-4809-4d28-89e0-72a146fe41f5",
   "metadata": {},
   "outputs": [
    {
     "name": "stdout",
     "output_type": "stream",
     "text": [
      "Eres mayor de edad.\n"
     ]
    }
   ],
   "source": [
    "if edad >= 18:\n",
    "    print(\"Eres mayor de edad.\")\n",
    "else:\n",
    "    print(\"Eres menor de edad.\")"
   ]
  },
  {
   "cell_type": "markdown",
   "id": "1e01c863-bd69-451e-b8e6-e13e0573286a",
   "metadata": {},
   "source": [
    "### 9. Bucles\n",
    "Los bucles permiten repetir acciones varias veces.\n",
    "\n",
    "__Bucle for:__ Se usa para iterar sobre una secuencia de elementos."
   ]
  },
  {
   "cell_type": "code",
   "execution_count": 14,
   "id": "09c9b658-fe1d-4cba-929d-962a3f18d7fd",
   "metadata": {},
   "outputs": [
    {
     "name": "stdout",
     "output_type": "stream",
     "text": [
      "Iteración: 0\n",
      "Iteración: 1\n",
      "Iteración: 2\n",
      "Iteración: 3\n",
      "Iteración: 4\n"
     ]
    }
   ],
   "source": [
    "for i in range(5):\n",
    "    print(\"Iteración:\", i)"
   ]
  },
  {
   "cell_type": "markdown",
   "id": "c6e4f679-046b-4239-a21e-08743421720a",
   "metadata": {},
   "source": [
    "__Bucle while:__ Se ejecuta mientras una condición sea verdadera."
   ]
  },
  {
   "cell_type": "code",
   "execution_count": 15,
   "id": "307e51d3-6783-4107-9135-0d288ffa1214",
   "metadata": {},
   "outputs": [
    {
     "name": "stdout",
     "output_type": "stream",
     "text": [
      "Contador: 0\n",
      "Contador: 1\n",
      "Contador: 2\n"
     ]
    }
   ],
   "source": [
    "contador = 0\n",
    "while contador < 3:\n",
    "    print(\"Contador:\", contador)\n",
    "    contador += 1"
   ]
  },
  {
   "cell_type": "markdown",
   "id": "95cbbd8e-5bf7-4291-acf0-ab49ad302152",
   "metadata": {},
   "source": [
    "### Ejercicios Prácticos\n",
    "\n",
    "1. Escribe un programa que solicite al usuario su nombre y edad, y luego imprima un mensaje con esa información."
   ]
  },
  {
   "cell_type": "code",
   "execution_count": null,
   "id": "e4492461-2d9a-4778-8d8f-75a59a43c141",
   "metadata": {},
   "outputs": [],
   "source": [
    "# Añada su codigo aquí"
   ]
  },
  {
   "cell_type": "markdown",
   "id": "d0442c3a-7a7b-47b1-9411-f80e385bfa03",
   "metadata": {},
   "source": [
    "2. Escribe un programa que tome dos números ingresados por el usuario y muestre el resultado de sumarlos, restarlos, multiplicarlos y dividirlos."
   ]
  },
  {
   "cell_type": "code",
   "execution_count": null,
   "id": "9157df18-d653-41c3-99e0-17e1eaddc7b3",
   "metadata": {},
   "outputs": [],
   "source": [
    "# Añada su codigo aquí"
   ]
  },
  {
   "cell_type": "markdown",
   "id": "dd9cd955-265e-497e-926e-d2389bfba6df",
   "metadata": {},
   "source": [
    "3. Escribe un programa que determine si un número ingresado por el usuario es par o impar."
   ]
  },
  {
   "cell_type": "code",
   "execution_count": null,
   "id": "8dfac0c0-e778-41e0-9e18-1290d7248e99",
   "metadata": {},
   "outputs": [],
   "source": [
    "# Añada su codigo aquí"
   ]
  },
  {
   "cell_type": "markdown",
   "id": "f03c86b1-a3eb-421c-af7e-0c2eab438644",
   "metadata": {},
   "source": [
    "4. Escribe un programa que solicite un número entero positivo y calcule su factorial usando un bucle."
   ]
  },
  {
   "cell_type": "code",
   "execution_count": null,
   "id": "8ba819c0-e30b-4dc3-a2ec-152232c23e71",
   "metadata": {},
   "outputs": [],
   "source": [
    "# Añada su codigo aquí"
   ]
  },
  {
   "cell_type": "markdown",
   "id": "19a65fb9-5a94-4f18-ab16-c2b6dfdac97b",
   "metadata": {},
   "source": [
    "5. Escribe un programa que solicite al usuario un número y genere la secuencia de Fibonacci hasta ese número."
   ]
  },
  {
   "cell_type": "code",
   "execution_count": null,
   "id": "b986f78f-ea17-4e1f-8a7e-90e55bb0644b",
   "metadata": {},
   "outputs": [],
   "source": [
    "# Añada su codigo aquí"
   ]
  }
 ],
 "metadata": {
  "kernelspec": {
   "display_name": "Python 3 (ipykernel)",
   "language": "python",
   "name": "python3"
  },
  "language_info": {
   "codemirror_mode": {
    "name": "ipython",
    "version": 3
   },
   "file_extension": ".py",
   "mimetype": "text/x-python",
   "name": "python",
   "nbconvert_exporter": "python",
   "pygments_lexer": "ipython3",
   "version": "3.13.1"
  }
 },
 "nbformat": 4,
 "nbformat_minor": 5
}
